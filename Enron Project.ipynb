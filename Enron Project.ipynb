{
 "cells": [
  {
   "cell_type": "markdown",
   "metadata": {},
   "source": [
    "# Enron Project"
   ]
  },
  {
   "cell_type": "code",
   "execution_count": 1,
   "metadata": {},
   "outputs": [],
   "source": [
    "# '#'D OUT IMPORTS WERE USED AT SOME POINT IN PLAYING/PRODUCTION, CAH\n",
    "\n",
    "import sys\n",
    "import pickle\n",
    "import pandas as pd\n",
    "import numpy as np\n",
    "import matplotlib.pyplot\n",
    "import tester\n",
    "sys.path.append(\"../tools/\")\n",
    "\n",
    "#REMOVE PYTHON 2.7 WANRINGS, CAH\n",
    "import warnings \n",
    "warnings.filterwarnings('ignore')\n",
    "\n",
    "from time import time\n",
    "from sklearn.feature_selection import SelectPercentile, f_classif\n",
    "from sklearn.svm import LinearSVC\n",
    "from sklearn.tree import DecisionTreeClassifier\n",
    "from sklearn.naive_bayes import GaussianNB\n",
    "from sklearn.feature_selection import SelectKBest\n",
    "from sklearn.model_selection import train_test_split, StratifiedShuffleSplit, GridSearchCV, cross_val_score\n",
    "from feature_format import featureFormat, targetFeatureSplit\n",
    "from tester import test_classifier, dump_classifier_and_data\n",
    "from collections import defaultdict"
   ]
  },
  {
   "cell_type": "markdown",
   "metadata": {},
   "source": [
    "# Task 1: Select what features you'll use."
   ]
  },
  {
   "cell_type": "code",
   "execution_count": 2,
   "metadata": {},
   "outputs": [],
   "source": [
    "### Task 1: Select what features you'll use.\n",
    "### features_list is a list of strings, each of which is a feature name.\n",
    "### The first feature must be \"poi\".\n",
    "\n",
    "# FEATURES USED, CAH\n",
    "label = 'poi'\n",
    "\n",
    "fin_features = [\n",
    "    'bonus',\n",
    "    'deferral_payments',\n",
    "    'deferred_income',\n",
    "    'director_fees',\n",
    "    'exercised_stock_options',\n",
    "    'expenses',\n",
    "    'loan_advances',\n",
    "    'long_term_incentive',\n",
    "    'other',\n",
    "    'restricted_stock',\n",
    "    'restricted_stock_deferred',\n",
    "    'salary',\n",
    "    'total_payments',\n",
    "    'total_stock_value',]\n",
    "\n",
    "em_features = [\n",
    "    'from_messages',\n",
    "    'from_poi_to_this_person',\n",
    "    'from_this_person_to_poi',\n",
    "    'shared_receipt_with_poi',\n",
    "    'to_messages',]\n",
    "\n",
    "features_list = [label] + fin_features + em_features \n",
    "\n",
    "### Load the dictionary containing the dataset\n",
    "with open(\"final_project_dataset.pkl\", \"rb\") as data_file:\n",
    "    data_dict = pickle.load(data_file)"
   ]
  },
  {
   "cell_type": "markdown",
   "metadata": {},
   "source": [
    "# Task 2: Remove outliers\n",
    "\n",
    "### Investigating ouliers"
   ]
  },
  {
   "cell_type": "code",
   "execution_count": 3,
   "metadata": {},
   "outputs": [
    {
     "name": "stdout",
     "output_type": "stream",
     "text": [
      "There are 146 objects in the dataset.\n"
     ]
    }
   ],
   "source": [
    "# NUMBER OF OBJECTS IN DATASET, CAH\n",
    "print('There are {} objects in the dataset.'.format(len(data_dict)))"
   ]
  },
  {
   "cell_type": "code",
   "execution_count": 4,
   "metadata": {},
   "outputs": [
    {
     "name": "stdout",
     "output_type": "stream",
     "text": [
      "There are 18 POIs and 128 non-POIs.\n"
     ]
    }
   ],
   "source": [
    "# POI VS. NON-POI, CAH\n",
    "poi_counts = defaultdict(int)\n",
    "for features_val in data_dict.values():\n",
    "    poi_counts[features_val['poi']] += 1\n",
    "print('There are {} POIs and {} non-POIs.'.format(poi_counts[True], poi_counts[False]))"
   ]
  },
  {
   "cell_type": "code",
   "execution_count": 5,
   "metadata": {},
   "outputs": [
    {
     "name": "stdout",
     "output_type": "stream",
     "text": [
      "There are 21 features.\n"
     ]
    },
    {
     "data": {
      "text/plain": [
       "['salary',\n",
       " 'to_messages',\n",
       " 'deferral_payments',\n",
       " 'total_payments',\n",
       " 'loan_advances',\n",
       " 'bonus',\n",
       " 'email_address',\n",
       " 'restricted_stock_deferred',\n",
       " 'deferred_income',\n",
       " 'total_stock_value',\n",
       " 'expenses',\n",
       " 'from_poi_to_this_person',\n",
       " 'exercised_stock_options',\n",
       " 'from_messages',\n",
       " 'other',\n",
       " 'from_this_person_to_poi',\n",
       " 'poi',\n",
       " 'long_term_incentive',\n",
       " 'shared_receipt_with_poi',\n",
       " 'restricted_stock',\n",
       " 'director_fees']"
      ]
     },
     "execution_count": 5,
     "metadata": {},
     "output_type": "execute_result"
    }
   ],
   "source": [
    "# NUMBER OF FEATURES USED AND NAMES, CAH\n",
    "print('There are {} features.'.format(len(list(data_dict.values())[0])))\n",
    "list(list(data_dict.values())[0].keys())"
   ]
  },
  {
   "cell_type": "code",
   "execution_count": 6,
   "metadata": {},
   "outputs": [
    {
     "name": "stdout",
     "output_type": "stream",
     "text": [
      "dict_keys(['METTS MARK', 'BAXTER JOHN C', 'ELLIOTT STEVEN', 'CORDES WILLIAM R', 'HANNON KEVIN P', 'MORDAUNT KRISTINA M', 'MEYER ROCKFORD G', 'MCMAHON JEFFREY', 'HAEDICKE MARK E', 'PIPER GREGORY F', 'HUMPHREY GENE E', 'NOLES JAMES L', 'BLACHMAN JEREMY M', 'SUNDE MARTIN', 'GIBBS DANA R', 'LOWRY CHARLES P', 'COLWELL WESLEY', 'MULLER MARK S', 'JACKSON CHARLENE R', 'WESTFAHL RICHARD K', 'WALTERS GARETH W', 'WALLS JR ROBERT H', 'KITCHEN LOUISE', 'CHAN RONNIE', 'BELFER ROBERT', 'SHANKMAN JEFFREY A', 'WODRASKA JOHN', 'BERGSIEKER RICHARD P', 'URQUHART JOHN A', 'BIBI PHILIPPE A', 'RIEKER PAULA H', 'WHALEY DAVID A', 'BECK SALLY W', 'HAUG DAVID L', 'ECHOLS JOHN B', 'MENDELSOHN JOHN', 'HICKERSON GARY J', 'CLINE KENNETH W', 'LEWIS RICHARD', 'HAYES ROBERT E', 'KOPPER MICHAEL J', 'LEFF DANIEL P', 'LAVORATO JOHN J', 'BERBERIAN DAVID', 'DETMERING TIMOTHY J', 'WAKEHAM JOHN', 'POWERS WILLIAM', 'GOLD JOSEPH', 'BANNANTINE JAMES M', 'DUNCAN JOHN H', 'SHAPIRO RICHARD S', 'SHERRIFF JOHN R', 'SHELBY REX', 'LEMAISTRE CHARLES', 'DEFFNER JOSEPH M', 'KISHKILL JOSEPH G', 'WHALLEY LAWRENCE G', 'MCCONNELL MICHAEL S', 'PIRO JIM', 'DELAINEY DAVID W', 'SULLIVAN-SHAKLOVITZ COLLEEN', 'WROBEL BRUCE', 'LINDHOLM TOD A', 'MEYER JEROME J', 'LAY KENNETH L', 'BUTTS ROBERT H', 'OLSON CINDY K', 'MCDONALD REBECCA', 'CUMBERLAND MICHAEL S', 'GAHN ROBERT S', 'BADUM JAMES P', 'HERMANN ROBERT J', 'FALLON JAMES B', 'GATHMANN WILLIAM D', 'HORTON STANLEY C', 'BOWEN JR RAYMOND M', 'GILLIS JOHN', 'FITZGERALD JAY L', 'MORAN MICHAEL P', 'REDMOND BRIAN L', 'BAZELIDES PHILIP J', 'BELDEN TIMOTHY N', 'DIMICHELE RICHARD G', 'DURAN WILLIAM D', 'THORN TERENCE H', 'FASTOW ANDREW S', 'FOY JOE', 'CALGER CHRISTOPHER F', 'RICE KENNETH D', 'KAMINSKI WINCENTY J', 'LOCKHART EUGENE E', 'COX DAVID', 'OVERDYKE JR JERE C', 'PEREIRA PAULO V. FERRAZ', 'STABLER FRANK', 'SKILLING JEFFREY K', 'BLAKE JR. NORMAN P', 'SHERRICK JEFFREY B', 'PRENTICE JAMES', 'GRAY RODNEY', 'THE TRAVEL AGENCY IN THE PARK', 'UMANOFF ADAM S', 'KEAN STEVEN J', 'TOTAL', 'FOWLER PEGGY', 'WASAFF GEORGE', 'WHITE JR THOMAS E', 'CHRISTODOULOU DIOMEDES', 'ALLEN PHILLIP K', 'SHARP VICTORIA T', 'JAEDICKE ROBERT', 'WINOKUR JR. HERBERT S', 'BROWN MICHAEL', 'MCCLELLAN GEORGE', 'HUGHES JAMES A', 'REYNOLDS LAWRENCE', 'PICKERING MARK R', 'BHATNAGAR SANJAY', 'CARTER REBECCA C', 'BUCHANAN HAROLD G', 'YEAP SOON', 'MURRAY JULIA H', 'GARLAND C KEVIN', 'DODSON KEITH', 'YEAGER F SCOTT', 'HIRKO JOSEPH', 'DIETRICH JANET R', 'DERRICK JR. JAMES V', 'FREVERT MARK A', 'PAI LOU L', 'HAYSLETT RODERICK J', 'BAY FRANKLIN R', 'MCCARTY DANNY J', 'FUGH JOHN L', 'SCRIMSHAW MATTHEW', 'KOENIG MARK E', 'SAVAGE FRANK', 'IZZO LAWRENCE L', 'TILNEY ELIZABETH A', 'MARTIN AMANDA K', 'BUY RICHARD B', 'GRAMM WENDY L', 'CAUSEY RICHARD A', 'TAYLOR MITCHELL S', 'DONAHUE JR JEFFREY M', 'GLISAN JR BEN F'])\n"
     ]
    }
   ],
   "source": [
    "# NAMES IN SET, CAH\n",
    "print(data_dict.keys())\n",
    "# list(data_dict.keys()) # USED FOR EASIER VIEWING, CAH"
   ]
  },
  {
   "cell_type": "code",
   "execution_count": 7,
   "metadata": {},
   "outputs": [
    {
     "name": "stdout",
     "output_type": "stream",
     "text": [
      "LOCKHART EUGENE E\n"
     ]
    }
   ],
   "source": [
    "# ALL 'NAN' IN MAIN FEATURES, I KIND OF STUMBLED INTO THIS ONE WHILE LEARNING, COULD NOT ITERATE, CAH\n",
    "for entry in data_dict:\n",
    "    if data_dict[entry]['director_fees'] == 'NaN' \\\n",
    "    and data_dict[entry]['total_stock_value'] == 'NaN' \\\n",
    "    and data_dict[entry]['total_payments'] == 'NaN':\n",
    "        print(entry)"
   ]
  },
  {
   "cell_type": "code",
   "execution_count": 8,
   "metadata": {},
   "outputs": [
    {
     "data": {
      "text/plain": [
       "{'salary': 'NaN',\n",
       " 'to_messages': 'NaN',\n",
       " 'deferral_payments': 'NaN',\n",
       " 'total_payments': 'NaN',\n",
       " 'loan_advances': 'NaN',\n",
       " 'bonus': 'NaN',\n",
       " 'email_address': 'NaN',\n",
       " 'restricted_stock_deferred': 'NaN',\n",
       " 'deferred_income': 'NaN',\n",
       " 'total_stock_value': 'NaN',\n",
       " 'expenses': 'NaN',\n",
       " 'from_poi_to_this_person': 'NaN',\n",
       " 'exercised_stock_options': 'NaN',\n",
       " 'from_messages': 'NaN',\n",
       " 'other': 'NaN',\n",
       " 'from_this_person_to_poi': 'NaN',\n",
       " 'poi': False,\n",
       " 'long_term_incentive': 'NaN',\n",
       " 'shared_receipt_with_poi': 'NaN',\n",
       " 'restricted_stock': 'NaN',\n",
       " 'director_fees': 'NaN'}"
      ]
     },
     "execution_count": 8,
     "metadata": {},
     "output_type": "execute_result"
    }
   ],
   "source": [
    "# CHECK LOCKHART INFO, CAH\n",
    "data_dict['LOCKHART EUGENE E']"
   ]
  },
  {
   "cell_type": "code",
   "execution_count": 9,
   "metadata": {},
   "outputs": [
    {
     "data": {
      "text/plain": [
       "{'salary': 26704229,\n",
       " 'to_messages': 'NaN',\n",
       " 'deferral_payments': 32083396,\n",
       " 'total_payments': 309886585,\n",
       " 'loan_advances': 83925000,\n",
       " 'bonus': 97343619,\n",
       " 'email_address': 'NaN',\n",
       " 'restricted_stock_deferred': -7576788,\n",
       " 'deferred_income': -27992891,\n",
       " 'total_stock_value': 434509511,\n",
       " 'expenses': 5235198,\n",
       " 'from_poi_to_this_person': 'NaN',\n",
       " 'exercised_stock_options': 311764000,\n",
       " 'from_messages': 'NaN',\n",
       " 'other': 42667589,\n",
       " 'from_this_person_to_poi': 'NaN',\n",
       " 'poi': False,\n",
       " 'long_term_incentive': 48521928,\n",
       " 'shared_receipt_with_poi': 'NaN',\n",
       " 'restricted_stock': 130322299,\n",
       " 'director_fees': 1398517}"
      ]
     },
     "execution_count": 9,
     "metadata": {},
     "output_type": "execute_result"
    }
   ],
   "source": [
    "# CHECK TOTAL INFO, CAH\n",
    "data_dict['TOTAL']"
   ]
  },
  {
   "cell_type": "code",
   "execution_count": 10,
   "metadata": {},
   "outputs": [
    {
     "data": {
      "text/plain": [
       "{'salary': 'NaN',\n",
       " 'to_messages': 'NaN',\n",
       " 'deferral_payments': 'NaN',\n",
       " 'total_payments': 362096,\n",
       " 'loan_advances': 'NaN',\n",
       " 'bonus': 'NaN',\n",
       " 'email_address': 'NaN',\n",
       " 'restricted_stock_deferred': 'NaN',\n",
       " 'deferred_income': 'NaN',\n",
       " 'total_stock_value': 'NaN',\n",
       " 'expenses': 'NaN',\n",
       " 'from_poi_to_this_person': 'NaN',\n",
       " 'exercised_stock_options': 'NaN',\n",
       " 'from_messages': 'NaN',\n",
       " 'other': 362096,\n",
       " 'from_this_person_to_poi': 'NaN',\n",
       " 'poi': False,\n",
       " 'long_term_incentive': 'NaN',\n",
       " 'shared_receipt_with_poi': 'NaN',\n",
       " 'restricted_stock': 'NaN',\n",
       " 'director_fees': 'NaN'}"
      ]
     },
     "execution_count": 10,
     "metadata": {},
     "output_type": "execute_result"
    }
   ],
   "source": [
    "# CHECK THE TRAVEL AGENCY IN THE PARK INFO, CAH\n",
    "data_dict['THE TRAVEL AGENCY IN THE PARK']"
   ]
  },
  {
   "cell_type": "markdown",
   "metadata": {},
   "source": [
    "### Removing outliers found thus far\n",
    "\n",
    "\"TOTAL\", \"THE TRAVEL AGENCY IN THE PARK\", and \"LOCKHART EUGENE\" are dropped for having no useful input. \"TOTAL\", appears to be the total of all summable features.. \"THE TRAVEL AGENCY IN THE PARK\", has incomplete data, and \"LOCKHART\" has no data."
   ]
  },
  {
   "cell_type": "code",
   "execution_count": 11,
   "metadata": {},
   "outputs": [
    {
     "data": {
      "text/plain": [
       "{'salary': 'NaN',\n",
       " 'to_messages': 'NaN',\n",
       " 'deferral_payments': 'NaN',\n",
       " 'total_payments': 'NaN',\n",
       " 'loan_advances': 'NaN',\n",
       " 'bonus': 'NaN',\n",
       " 'email_address': 'NaN',\n",
       " 'restricted_stock_deferred': 'NaN',\n",
       " 'deferred_income': 'NaN',\n",
       " 'total_stock_value': 'NaN',\n",
       " 'expenses': 'NaN',\n",
       " 'from_poi_to_this_person': 'NaN',\n",
       " 'exercised_stock_options': 'NaN',\n",
       " 'from_messages': 'NaN',\n",
       " 'other': 'NaN',\n",
       " 'from_this_person_to_poi': 'NaN',\n",
       " 'poi': False,\n",
       " 'long_term_incentive': 'NaN',\n",
       " 'shared_receipt_with_poi': 'NaN',\n",
       " 'restricted_stock': 'NaN',\n",
       " 'director_fees': 'NaN'}"
      ]
     },
     "execution_count": 11,
     "metadata": {},
     "output_type": "execute_result"
    }
   ],
   "source": [
    "### Task 2: Remove outliers\n",
    "\n",
    "# REMOVE OUTLIERS\n",
    "data_dict.pop('TOTAL',0)\n",
    "data_dict.pop('THE TRAVEL AGENCY IN THE PARK',0)\n",
    "data_dict.pop('LOCKHART EUGENE E',0)"
   ]
  },
  {
   "cell_type": "markdown",
   "metadata": {},
   "source": [
    "As this is an investigation into fraud, I do not want to be too aggresive in removing outliers. Even though this chart may appear to have several possible outliers remaining, these could represent more possible fraud and are not outside of the realm of possible theft considering the scenario."
   ]
  },
  {
   "cell_type": "code",
   "execution_count": 12,
   "metadata": {},
   "outputs": [
    {
     "data": {
      "image/png": "[encoded data removed]",
      "text/plain": [
       "<Figure size 432x288 with 1 Axes>"
      ]
     },
     "metadata": {
      "needs_background": "light"
     },
     "output_type": "display_data"
    }
   ],
   "source": [
    "# CHART OUT BONUS AND SALARY FOR POTENTIAL OUTLIERS, CAH\n",
    "# CODE PULLED FROM UDACITY, \\OUTLIERS, CAH\n",
    "features = [\"salary\", \"bonus\"]\n",
    "data = featureFormat(data_dict, features)\n",
    "\n",
    "for point in data:\n",
    "    salary = point[0]\n",
    "    bonus = point[1]\n",
    "    matplotlib.pyplot.scatter( salary, bonus )\n",
    "\n",
    "matplotlib.pyplot.xlabel(\"Salary\")\n",
    "matplotlib.pyplot.ylabel(\"Bonus\")\n",
    "matplotlib.pyplot.show()"
   ]
  },
  {
   "cell_type": "code",
   "execution_count": 13,
   "metadata": {},
   "outputs": [
    {
     "data": {
      "text/html": [
       "<div>\n",
       "<style scoped>\n",
       "    .dataframe tbody tr th:only-of-type {\n",
       "        vertical-align: middle;\n",
       "    }\n",
       "\n",
       "    .dataframe tbody tr th {\n",
       "        vertical-align: top;\n",
       "    }\n",
       "\n",
       "    .dataframe thead th {\n",
       "        text-align: right;\n",
       "    }\n",
       "</style>\n",
       "<table border=\"1\" class=\"dataframe\">\n",
       "  <thead>\n",
       "    <tr style=\"text-align: right;\">\n",
       "      <th></th>\n",
       "      <th># NaN in POIs</th>\n",
       "      <th># NaN in non-POIs</th>\n",
       "      <th># NaN total</th>\n",
       "      <th>% NaN total</th>\n",
       "    </tr>\n",
       "  </thead>\n",
       "  <tbody>\n",
       "    <tr>\n",
       "      <th>deferral_payments</th>\n",
       "      <td>13.0</td>\n",
       "      <td>92.0</td>\n",
       "      <td>105.0</td>\n",
       "      <td>73.426573</td>\n",
       "    </tr>\n",
       "    <tr>\n",
       "      <th>loan_advances</th>\n",
       "      <td>17.0</td>\n",
       "      <td>123.0</td>\n",
       "      <td>140.0</td>\n",
       "      <td>97.902098</td>\n",
       "    </tr>\n",
       "    <tr>\n",
       "      <th>restricted_stock_deferred</th>\n",
       "      <td>18.0</td>\n",
       "      <td>108.0</td>\n",
       "      <td>126.0</td>\n",
       "      <td>88.111888</td>\n",
       "    </tr>\n",
       "    <tr>\n",
       "      <th>director_fees</th>\n",
       "      <td>18.0</td>\n",
       "      <td>109.0</td>\n",
       "      <td>127.0</td>\n",
       "      <td>88.811189</td>\n",
       "    </tr>\n",
       "    <tr>\n",
       "      <th>exercised_stock_options</th>\n",
       "      <td>6.0</td>\n",
       "      <td>36.0</td>\n",
       "      <td>42.0</td>\n",
       "      <td>29.370629</td>\n",
       "    </tr>\n",
       "    <tr>\n",
       "      <th>long_term_incentive</th>\n",
       "      <td>6.0</td>\n",
       "      <td>72.0</td>\n",
       "      <td>78.0</td>\n",
       "      <td>54.545455</td>\n",
       "    </tr>\n",
       "    <tr>\n",
       "      <th>to_messages</th>\n",
       "      <td>4.0</td>\n",
       "      <td>53.0</td>\n",
       "      <td>57.0</td>\n",
       "      <td>39.860140</td>\n",
       "    </tr>\n",
       "    <tr>\n",
       "      <th>deferred_income</th>\n",
       "      <td>7.0</td>\n",
       "      <td>88.0</td>\n",
       "      <td>95.0</td>\n",
       "      <td>66.433566</td>\n",
       "    </tr>\n",
       "    <tr>\n",
       "      <th>from_poi_to_this_person</th>\n",
       "      <td>4.0</td>\n",
       "      <td>53.0</td>\n",
       "      <td>57.0</td>\n",
       "      <td>39.860140</td>\n",
       "    </tr>\n",
       "    <tr>\n",
       "      <th>from_messages</th>\n",
       "      <td>4.0</td>\n",
       "      <td>53.0</td>\n",
       "      <td>57.0</td>\n",
       "      <td>39.860140</td>\n",
       "    </tr>\n",
       "    <tr>\n",
       "      <th>from_this_person_to_poi</th>\n",
       "      <td>4.0</td>\n",
       "      <td>53.0</td>\n",
       "      <td>57.0</td>\n",
       "      <td>39.860140</td>\n",
       "    </tr>\n",
       "    <tr>\n",
       "      <th>shared_receipt_with_poi</th>\n",
       "      <td>4.0</td>\n",
       "      <td>53.0</td>\n",
       "      <td>57.0</td>\n",
       "      <td>39.860140</td>\n",
       "    </tr>\n",
       "    <tr>\n",
       "      <th>bonus</th>\n",
       "      <td>2.0</td>\n",
       "      <td>60.0</td>\n",
       "      <td>62.0</td>\n",
       "      <td>43.356643</td>\n",
       "    </tr>\n",
       "    <tr>\n",
       "      <th>salary</th>\n",
       "      <td>1.0</td>\n",
       "      <td>48.0</td>\n",
       "      <td>49.0</td>\n",
       "      <td>34.265734</td>\n",
       "    </tr>\n",
       "    <tr>\n",
       "      <th>restricted_stock</th>\n",
       "      <td>1.0</td>\n",
       "      <td>33.0</td>\n",
       "      <td>34.0</td>\n",
       "      <td>23.776224</td>\n",
       "    </tr>\n",
       "    <tr>\n",
       "      <th>email_address</th>\n",
       "      <td>0.0</td>\n",
       "      <td>32.0</td>\n",
       "      <td>32.0</td>\n",
       "      <td>22.377622</td>\n",
       "    </tr>\n",
       "    <tr>\n",
       "      <th>total_payments</th>\n",
       "      <td>0.0</td>\n",
       "      <td>20.0</td>\n",
       "      <td>20.0</td>\n",
       "      <td>13.986014</td>\n",
       "    </tr>\n",
       "    <tr>\n",
       "      <th>expenses</th>\n",
       "      <td>0.0</td>\n",
       "      <td>49.0</td>\n",
       "      <td>49.0</td>\n",
       "      <td>34.265734</td>\n",
       "    </tr>\n",
       "    <tr>\n",
       "      <th>other</th>\n",
       "      <td>0.0</td>\n",
       "      <td>52.0</td>\n",
       "      <td>52.0</td>\n",
       "      <td>36.363636</td>\n",
       "    </tr>\n",
       "    <tr>\n",
       "      <th>total_stock_value</th>\n",
       "      <td>0.0</td>\n",
       "      <td>18.0</td>\n",
       "      <td>18.0</td>\n",
       "      <td>12.587413</td>\n",
       "    </tr>\n",
       "  </tbody>\n",
       "</table>\n",
       "</div>"
      ],
      "text/plain": [
       "                           # NaN in POIs  # NaN in non-POIs  # NaN total  \\\n",
       "deferral_payments                   13.0               92.0        105.0   \n",
       "loan_advances                       17.0              123.0        140.0   \n",
       "restricted_stock_deferred           18.0              108.0        126.0   \n",
       "director_fees                       18.0              109.0        127.0   \n",
       "exercised_stock_options              6.0               36.0         42.0   \n",
       "long_term_incentive                  6.0               72.0         78.0   \n",
       "to_messages                          4.0               53.0         57.0   \n",
       "deferred_income                      7.0               88.0         95.0   \n",
       "from_poi_to_this_person              4.0               53.0         57.0   \n",
       "from_messages                        4.0               53.0         57.0   \n",
       "from_this_person_to_poi              4.0               53.0         57.0   \n",
       "shared_receipt_with_poi              4.0               53.0         57.0   \n",
       "bonus                                2.0               60.0         62.0   \n",
       "salary                               1.0               48.0         49.0   \n",
       "restricted_stock                     1.0               33.0         34.0   \n",
       "email_address                        0.0               32.0         32.0   \n",
       "total_payments                       0.0               20.0         20.0   \n",
       "expenses                             0.0               49.0         49.0   \n",
       "other                                0.0               52.0         52.0   \n",
       "total_stock_value                    0.0               18.0         18.0   \n",
       "\n",
       "                           % NaN total  \n",
       "deferral_payments            73.426573  \n",
       "loan_advances                97.902098  \n",
       "restricted_stock_deferred    88.111888  \n",
       "director_fees                88.811189  \n",
       "exercised_stock_options      29.370629  \n",
       "long_term_incentive          54.545455  \n",
       "to_messages                  39.860140  \n",
       "deferred_income              66.433566  \n",
       "from_poi_to_this_person      39.860140  \n",
       "from_messages                39.860140  \n",
       "from_this_person_to_poi      39.860140  \n",
       "shared_receipt_with_poi      39.860140  \n",
       "bonus                        43.356643  \n",
       "salary                       34.265734  \n",
       "restricted_stock             23.776224  \n",
       "email_address                22.377622  \n",
       "total_payments               13.986014  \n",
       "expenses                     34.265734  \n",
       "other                        36.363636  \n",
       "total_stock_value            12.587413  "
      ]
     },
     "execution_count": 13,
     "metadata": {},
     "output_type": "execute_result"
    }
   ],
   "source": [
    "# TABLE OUT NAN IN POI & NON POI, CAH\n",
    "nan_cnts_poi = defaultdict(int)\n",
    "nan_cnts_non_poi = defaultdict(int)\n",
    "for data_point in data_dict.values():\n",
    "    if data_point['poi'] == True:\n",
    "        for feature, value in data_point.items():\n",
    "            if value == \"NaN\":\n",
    "                nan_cnts_poi[feature] += 1\n",
    "    elif data_point['poi'] == False:\n",
    "        for feature, value in data_point.items():\n",
    "            if value == \"NaN\":\n",
    "                nan_cnts_non_poi[feature] += 1\n",
    "    else:\n",
    "        print('Uknown person.')\n",
    "nan_cnts_df = pd.DataFrame([nan_cnts_poi, nan_cnts_non_poi]).T\n",
    "nan_cnts_df = nan_cnts_df.fillna(value=0)\n",
    "nan_cnts_df.columns = ['# NaN in POIs', '# NaN in non-POIs']\n",
    "nan_cnts_df['# NaN total'] = nan_cnts_df['# NaN in POIs'] + \\\n",
    "                               nan_cnts_df['# NaN in non-POIs']\n",
    "nan_cnts_df['% NaN total'] = nan_cnts_df['# NaN total'] / \\\n",
    "                                          len(data_dict) * 100\n",
    "    \n",
    "nan_cnts_df"
   ]
  },
  {
   "cell_type": "markdown",
   "metadata": {},
   "source": [
    "# Task 3: Create new feature(s)"
   ]
  },
  {
   "cell_type": "code",
   "execution_count": 14,
   "metadata": {},
   "outputs": [],
   "source": [
    "### Task 3: Create new feature(s)\n",
    "\n",
    "# CREATE FEATURES, WITH MESSAGES TO_FROM POI AND ALL MESSAGES TO_FROM PERSON\n",
    "# RETURN TO FRACTION MESSAGES TO_FROM PERSON THAT ARE TO_FROM POI\n",
    "# 'fraction_from_poi', 'fraction_to_poi' ARE CREATED DURING THIS PROCESS, CAH\n",
    "\n",
    "### Store to my_dataset for easy export below.\n",
    "my_dataset = data_dict\n",
    "\n",
    "def getFraction( poi_messages, all_messages ):\n",
    "    \n",
    "    fraction = 0.\n",
    "    if poi_messages != 'NaN' and all_messages != 'NaN':\n",
    "        fraction = float(poi_messages)/all_messages\n",
    "    return fraction\n",
    "\n",
    "for name in data_dict:\n",
    "\n",
    "    var = data_dict[name]\n",
    "\n",
    "    from_poi_to_this_person = var[\"from_poi_to_this_person\"]\n",
    "    to_messages = var[\"to_messages\"]\n",
    "    fraction_from_poi = getFraction(from_poi_to_this_person, to_messages)\n",
    "    \n",
    "    data_dict[name][\"fraction_from_poi\"] = fraction_from_poi\n",
    "  \n",
    "    from_this_person_to_poi = var[\"from_this_person_to_poi\"]\n",
    "    from_messages = var[\"from_messages\"]\n",
    "    fraction_to_poi = getFraction(from_this_person_to_poi, from_messages)\n",
    "\n",
    "    data_dict[name][\"fraction_to_poi\"] = fraction_to_poi\n",
    "\n",
    "### Extract features and labels from dataset for local testing\n",
    "data = featureFormat(my_dataset, features_list, sort_keys = True)\n",
    "labels, features = targetFeatureSplit(data)"
   ]
  },
  {
   "cell_type": "code",
   "execution_count": 15,
   "metadata": {},
   "outputs": [
    {
     "name": "stdout",
     "output_type": "stream",
     "text": [
      "There are 23 features.\n"
     ]
    },
    {
     "data": {
      "text/plain": [
       "['salary',\n",
       " 'to_messages',\n",
       " 'deferral_payments',\n",
       " 'total_payments',\n",
       " 'loan_advances',\n",
       " 'bonus',\n",
       " 'email_address',\n",
       " 'restricted_stock_deferred',\n",
       " 'deferred_income',\n",
       " 'total_stock_value',\n",
       " 'expenses',\n",
       " 'from_poi_to_this_person',\n",
       " 'exercised_stock_options',\n",
       " 'from_messages',\n",
       " 'other',\n",
       " 'from_this_person_to_poi',\n",
       " 'poi',\n",
       " 'long_term_incentive',\n",
       " 'shared_receipt_with_poi',\n",
       " 'restricted_stock',\n",
       " 'director_fees',\n",
       " 'fraction_from_poi',\n",
       " 'fraction_to_poi']"
      ]
     },
     "execution_count": 15,
     "metadata": {},
     "output_type": "execute_result"
    }
   ],
   "source": [
    "# NUMBER OF FEATURES USED AND NAMES, CAH\n",
    "print('There are {} features.'.format(len(list(data_dict.values())[0])))\n",
    "list(list(data_dict.values())[0].keys())"
   ]
  },
  {
   "cell_type": "code",
   "execution_count": 16,
   "metadata": {},
   "outputs": [
    {
     "data": {
      "image/png": "[encoded data removed]",
      "text/plain": [
       "<Figure size 432x288 with 1 Axes>"
      ]
     },
     "metadata": {
      "needs_background": "light"
     },
     "output_type": "display_data"
    }
   ],
   "source": [
    "# CHART NEW FEATS, CAH\n",
    "features_chart = [\"fraction_to_poi\", \"fraction_from_poi\", \"poi\"]\n",
    "data_chart = featureFormat(data_dict, features_chart)\n",
    "\n",
    "for point in data_chart:\n",
    "    fraction_to_poi = point[0]\n",
    "    fraction_from_poi = point[1]\n",
    "    matplotlib.pyplot.scatter(fraction_to_poi, fraction_from_poi)\n",
    "    \n",
    "\n",
    "matplotlib.pyplot.xlabel(\"Fraction to POI\")\n",
    "matplotlib.pyplot.ylabel(\"Fraction from POI\")\n",
    "matplotlib.pyplot.show()"
   ]
  },
  {
   "cell_type": "markdown",
   "metadata": {},
   "source": [
    "# Task 4: Try a varity of classifiers"
   ]
  },
  {
   "cell_type": "code",
   "execution_count": 17,
   "metadata": {},
   "outputs": [
    {
     "name": "stdout",
     "output_type": "stream",
     "text": [
      "Best features in order: \n"
     ]
    },
    {
     "data": {
      "text/plain": [
       "['bonus',\n",
       " 'deferral_payments',\n",
       " 'deferred_income',\n",
       " 'director_fees',\n",
       " 'exercised_stock_options',\n",
       " 'expenses',\n",
       " 'loan_advances',\n",
       " 'long_term_incentive',\n",
       " 'other',\n",
       " 'restricted_stock',\n",
       " 'restricted_stock_deferred',\n",
       " 'salary',\n",
       " 'total_payments',\n",
       " 'total_stock_value',\n",
       " 'from_messages',\n",
       " 'from_poi_to_this_person',\n",
       " 'from_this_person_to_poi',\n",
       " 'shared_receipt_with_poi',\n",
       " 'to_messages']"
      ]
     },
     "execution_count": 17,
     "metadata": {},
     "output_type": "execute_result"
    }
   ],
   "source": [
    "### Task 4: Try a varity of classifiers\n",
    "### Please name your classifier clf for easy export below.\n",
    "### Note that if you want to do PCA or other multi-stage operations,\n",
    "### you'll need to use Pipelines. For more info:\n",
    "### http://scikit-learn.org/stable/modules/pipeline.html\n",
    "\n",
    "# SELECTKBEST, SHOW K TOP FEATS, CAH\n",
    "selector = SelectKBest(k='all')\n",
    "selectedFeatures = selector.fit(features, labels)\n",
    "feature_names = [features_list[i+1] for i in selectedFeatures.get_support(indices=True)]\n",
    "# scores = -np.log10(selector.pvalues_)\n",
    "print('Best features in order: '), \n",
    "list(feature_names)#, (scores)"
   ]
  },
  {
   "cell_type": "code",
   "execution_count": 18,
   "metadata": {},
   "outputs": [
    {
     "name": "stdout",
     "output_type": "stream",
     "text": [
      "Best features in order: \n"
     ]
    },
    {
     "data": {
      "text/plain": [
       "['bonus',\n",
       " 'deferred_income',\n",
       " 'exercised_stock_options',\n",
       " 'long_term_incentive',\n",
       " 'restricted_stock',\n",
       " 'salary',\n",
       " 'total_payments',\n",
       " 'total_stock_value',\n",
       " 'shared_receipt_with_poi']"
      ]
     },
     "execution_count": 18,
     "metadata": {},
     "output_type": "execute_result"
    }
   ],
   "source": [
    "# SELECTKPERCENTILE, CUTTING FEATS IN HALF BY VALUE OF %, CAH\n",
    "selector = SelectPercentile(f_classif, percentile = 50)\n",
    "selectedFeatures = selector.fit(features, labels)\n",
    "feature_names = [features_list[i+1] for i in selectedFeatures.get_support(indices=True)]\n",
    "# scores = -np.log10(selector.pvalues_)\n",
    "print('Best features in order: '), \n",
    "list(feature_names)#, (scores)"
   ]
  },
  {
   "cell_type": "code",
   "execution_count": 19,
   "metadata": {},
   "outputs": [],
   "source": [
    "# SPLIT DATA, TESTING AND TRAINING, CAH\n",
    "features_train, features_test, labels_train, labels_test = train_test_split(features, \n",
    "                                                                            labels, \n",
    "                                                                            test_size = 0.3, \n",
    "                                                                            random_state = 42)"
   ]
  },
  {
   "cell_type": "markdown",
   "metadata": {},
   "source": [
    "### LinearSVC"
   ]
  },
  {
   "cell_type": "code",
   "execution_count": 20,
   "metadata": {},
   "outputs": [
    {
     "name": "stdout",
     "output_type": "stream",
     "text": [
      "training time: 0.003 s\n",
      "-----------------------------------------\n",
      "CLF Score: 0.6976744186046512\n",
      "-----------------------------------------\n",
      "LinearSVC()\n",
      "\tAccuracy: 0.73593\tPrecision: 0.20511\tRecall: 0.34100\tF1: 0.25615\tF2: 0.30110\n",
      "\tTotal predictions: 15000\tTrue positives:  682\tFalse positives: 2643\tFalse negatives: 1318\tTrue negatives: 10357\n",
      "\n"
     ]
    }
   ],
   "source": [
    "# LINEARSVC, CAH\n",
    "t0 = time()\n",
    "svc_clf = LinearSVC()\n",
    "svc_clf.fit(features_train, labels_train).predict(features_test)\n",
    "print (\"training time:\", round(time()-t0, 3), \"s\")\n",
    "print (\"-----------------------------------------\")\n",
    "print (\"CLF Score:\", svc_clf.score(features_test, labels_test))\n",
    "print (\"-----------------------------------------\")\n",
    "test_classifier(svc_clf, my_dataset, features_list)"
   ]
  },
  {
   "cell_type": "markdown",
   "metadata": {},
   "source": [
    "### GaussianNB"
   ]
  },
  {
   "cell_type": "code",
   "execution_count": 21,
   "metadata": {
    "scrolled": true
   },
   "outputs": [
    {
     "name": "stdout",
     "output_type": "stream",
     "text": [
      "training time: 0.002 s\n",
      "-----------------------------------------\n",
      "CLF Score: 0.8837209302325582\n",
      "-----------------------------------------\n",
      "GaussianNB()\n",
      "\tAccuracy: 0.73900\tPrecision: 0.22604\tRecall: 0.39500\tF1: 0.28753\tF2: 0.34363\n",
      "\tTotal predictions: 15000\tTrue positives:  790\tFalse positives: 2705\tFalse negatives: 1210\tTrue negatives: 10295\n",
      "\n"
     ]
    }
   ],
   "source": [
    "# GAUSSIANNB, CAH\n",
    "t0 = time()\n",
    "gnb_clf = GaussianNB()\n",
    "gnb_clf.fit(features_train, labels_train).predict(features_test)\n",
    "print (\"training time:\", round(time()-t0, 3), \"s\")\n",
    "print (\"-----------------------------------------\")\n",
    "print (\"CLF Score:\", gnb_clf.score(features_test, labels_test))\n",
    "print (\"-----------------------------------------\")\n",
    "test_classifier(gnb_clf, my_dataset, features_list)"
   ]
  },
  {
   "cell_type": "markdown",
   "metadata": {},
   "source": [
    "### DecisionTreeClassifier"
   ]
  },
  {
   "cell_type": "code",
   "execution_count": 22,
   "metadata": {},
   "outputs": [
    {
     "name": "stdout",
     "output_type": "stream",
     "text": [
      "training time: 0.002 s\n",
      "-----------------------------------------\n",
      "CLF Score: 0.813953488372093\n",
      "-----------------------------------------\n",
      "DecisionTreeClassifier()\n",
      "\tAccuracy: 0.79747\tPrecision: 0.23247\tRecall: 0.22550\tF1: 0.22893\tF2: 0.22686\n",
      "\tTotal predictions: 15000\tTrue positives:  451\tFalse positives: 1489\tFalse negatives: 1549\tTrue negatives: 11511\n",
      "\n"
     ]
    }
   ],
   "source": [
    "# DECISIONTREECLASSIFIER, CAH\n",
    "t0 = time()\n",
    "dt_clf = DecisionTreeClassifier()\n",
    "dt_clf.fit(features_train, labels_train).predict(features_test)\n",
    "print (\"training time:\", round(time()-t0, 3), \"s\")\n",
    "print (\"-----------------------------------------\")\n",
    "print (\"CLF Score:\", dt_clf.score(features_test, labels_test))\n",
    "print (\"-----------------------------------------\")\n",
    "test_classifier(dt_clf, my_dataset, features_list)"
   ]
  },
  {
   "cell_type": "code",
   "execution_count": 23,
   "metadata": {},
   "outputs": [
    {
     "name": "stdout",
     "output_type": "stream",
     "text": [
      "Best features in order: \n",
      "1 feature bonus (0.2037142857142859)\n",
      "2 feature deferral_payments (0.196047619047619)\n",
      "3 feature deferred_income (0.11309523809523812)\n",
      "4 feature director_fees (0.11180451127819545)\n",
      "5 feature exercised_stock_options (0.10714285714285715)\n",
      "6 feature expenses (0.09145021645021652)\n",
      "7 feature loan_advances (0.07047619047619036)\n",
      "8 feature long_term_incentive (0.058650034176350056)\n",
      "9 feature other (0.04761904761904762)\n",
      "10 feature restricted_stock (0.0)\n"
     ]
    }
   ],
   "source": [
    "# DECISION TREE BEST FEATURES, CAH\n",
    "important = dt_clf.feature_importances_\n",
    "index = np.argsort(important)[::-1]\n",
    "print('Best features in order: ')\n",
    "for i in range(10):\n",
    "    print (\"{} feature {} ({})\".format(i+1,features_list[i+1],important[index[i]]))"
   ]
  },
  {
   "cell_type": "markdown",
   "metadata": {},
   "source": [
    "# Task 5: Tune your classifier to achieve better than .3 precision\n",
    "\n",
    "I chose DecisionTreeClassifier to move forward with. Accuracy was highest for DecisionTree and Precision is in an exceptable starting area for reducing false positives with some tuning to achieve higher than .3 precision.\n",
    "\n",
    "### Feature Selection\n",
    "For feature selection I chose the features utilizing feature_importances_, selecting to use all features with a score higher than .05 (8 features) for GridSearchCV analysis. I wanted to use no less than 3 features and kept the max at 8. While exploring with the final feature set, 4 features were the perfect number. 3 features would start to reduce precision while 5 or more features would decrease recall, this did vary based on the other parameters included but did not product the results needed.\n",
    "\n",
    "I also experimented with which features specifically to include. Taking the top 4 features from SelectK Percentile, I was not able to achieve better than .3 recall. I used the top 4 as GridSearchCV suggested. Essentially, as a novice, I experimented with some of these variables and found that any more than 4 variables were not giving positive results. As some features were very heavy with NaN's, this could be expected. The following represents the best results currently achieved.\n",
    "\n",
    "### Feature Scaling\n",
    "Feature scaling is the process of assessing a more even \"weighting\" to features. Feature scaling was not used for this project as it was not necessary for the algorithms chosen."
   ]
  },
  {
   "cell_type": "code",
   "execution_count": 24,
   "metadata": {},
   "outputs": [
    {
     "name": "stdout",
     "output_type": "stream",
     "text": [
      "training time: 2.852 s\n",
      "-----------------------------------------\n",
      "Best parameters found by grid search:\n",
      "{'max_depth': 2, 'max_features': 3, 'min_samples_split': 13}\n",
      "-----------------------------------------\n",
      "Best estimators found by grid search:\n",
      "DecisionTreeClassifier(max_depth=2, max_features=3, min_samples_split=13)\n"
     ]
    }
   ],
   "source": [
    "### Task 5: Tune your classifier to achieve better than .3 precision and recall \n",
    "### using our testing script. Check the tester.py script in the final project\n",
    "### folder for details on the evaluation method, especially the test_classifier\n",
    "### function. Because of the small size of the dataset, the script uses\n",
    "### stratified shuffle split cross validation. For more info: \n",
    "### http://scikit-learn.org/stable/modules/generated/sklearn.cross_validation.StratifiedShuffleSplit.htmlerated\n",
    "### /sklearn.cross_validation.StratifiedShuffleSplit.html\n",
    "\n",
    "# USING DECSIONTREECV()\n",
    "# USING GRIDSEARCH TO DETERMINE OPTIMAL FEATS AND PARAMETERS, CAH\n",
    "# WILL NOT SCALE DUE TO HAVING HIGH VALUES THAT ARE POI'S , CAH\n",
    "t0 = time()\n",
    "param_grid = {\n",
    "        'min_samples_split': range(2,15),\n",
    "        'max_depth': range(1,15),\n",
    "        'max_features': range(3,8)\n",
    "          }\n",
    "clf = GridSearchCV(DecisionTreeClassifier(), param_grid, cv = 3)\n",
    "clf.fit(features_train, labels_train)\n",
    "print (\"training time:\", round(time()-t0, 3), \"s\")\n",
    "print (\"-----------------------------------------\")\n",
    "print (\"Best parameters found by grid search:\")\n",
    "print (clf.best_params_)\n",
    "print (\"-----------------------------------------\")\n",
    "print (\"Best estimators found by grid search:\")\n",
    "print (clf.best_estimator_)"
   ]
  },
  {
   "cell_type": "markdown",
   "metadata": {},
   "source": [
    "### train_test_split\n",
    "For this project the data is limited and features are unbalanced. There are many more non POI's than POI's, for example. I used train_test_split using 30% of the data for the validation test with the test_size parameter. Shuffle means that the samples are shuffled before being split into train and test sets and random_state controls the shuffling applied to the data. This should create a user defined amount of shuffles and reuses the data randomly across shuffles. To validate this we use the test set to gaugle a realistic performance of the model. "
   ]
  },
  {
   "cell_type": "code",
   "execution_count": 25,
   "metadata": {},
   "outputs": [
    {
     "name": "stdout",
     "output_type": "stream",
     "text": [
      "training time: 0.002 s\n",
      "-----------------------------------------\n",
      "CLF Score: 0.8857142857142857\n",
      "-----------------------------------------\n",
      "DecisionTreeClassifier(max_depth=4, max_features=4, min_samples_split=14)\n",
      "\tAccuracy: 0.84817\tPrecision: 0.57793\tRecall: 0.33000\tF1: 0.42011\tF2: 0.36097\n",
      "\tTotal predictions: 12000\tTrue positives:  660\tFalse positives:  482\tFalse negatives: 1340\tTrue negatives: 9518\n",
      "\n"
     ]
    }
   ],
   "source": [
    "# FEATURES, CAH\n",
    "# FEATURES CHOSEN BY USING THE TOP 4 FROM DEC TREE. I PLAYED WITH INPUT FROM GRIDSEARCH AND ADJUSTING FEATS\n",
    "# BY HAND, RESET SOME VALUES FOR CHOSEN FEATS, CAH\n",
    "label = 'poi'\n",
    "\n",
    "# USING SPECIFIC TOP FEATURES FROM DECISION TREE, CAH\n",
    "# THIS MAY BE HIGHLY BIAS'D, JUST A FEW FEATS, CAH\n",
    "fin_features_final = [\n",
    "    'bonus',\n",
    "    'deferral_payments',\n",
    "    'deferred_income',\n",
    "    'director_fees']\n",
    "\n",
    "features_list = [label] + fin_features_final\n",
    "\n",
    "### Extract features and labels from dataset for local testing\n",
    "data = featureFormat(my_dataset, features_list, sort_keys = True)\n",
    "labels, features = targetFeatureSplit(data)\n",
    "\n",
    "# SPLIT DATA, TESTING AND TRAINING, CAH\n",
    "features_train, features_test, labels_train, labels_test = train_test_split(features, \n",
    "                                                                            labels, \n",
    "                                                                            shuffle = 100,\n",
    "                                                                            test_size = 0.3, \n",
    "                                                                            random_state = 42)\n",
    "\n",
    "# RUN DECISION TREE WITH CHOSEN FEATS AND TUNED SPECS FROM GRIDSEARCH\n",
    "# THESE VALUES MAY NOT REPRPESENT WHAT IS ABOVE, BUT AFTER MANY RUNS THESE SEEM BEST, CAH\n",
    "t0 = time()\n",
    "clf = DecisionTreeClassifier(min_samples_split = 14,\n",
    "                             min_samples_leaf = 1,\n",
    "                             max_depth = 4,\n",
    "                             max_features = 4)\n",
    "clf.fit(features_train, labels_train).predict(features_test)\n",
    "print (\"training time:\", round(time()-t0, 3), \"s\")\n",
    "print (\"-----------------------------------------\")\n",
    "print (\"CLF Score:\", clf.score(features_test, labels_test))\n",
    "print (\"-----------------------------------------\")\n",
    "test_classifier(clf, my_dataset, features_list)"
   ]
  },
  {
   "cell_type": "markdown",
   "metadata": {},
   "source": [
    "# Task 6: Dump your classifier, dataset, and features_list"
   ]
  },
  {
   "cell_type": "code",
   "execution_count": 26,
   "metadata": {},
   "outputs": [],
   "source": [
    "### Task 6: Dump your classifier, dataset, and features_list so anyone can\n",
    "### check your results. You do not need to change anything below, but make sure\n",
    "### that the version of poi_id.py that you submit can be run on its own and\n",
    "### generates the necessary .pkl files for validating your results.\n",
    "\n",
    "dump_classifier_and_data(clf, my_dataset, features_list)"
   ]
  },
  {
   "cell_type": "markdown",
   "metadata": {},
   "source": [
    "# Questions"
   ]
  },
  {
   "cell_type": "markdown",
   "metadata": {},
   "source": [
    "### Discuss parameter tuning and its importance.  Response addresses what it means to perform parameter tuning and why it is important."
   ]
  },
  {
   "cell_type": "markdown",
   "metadata": {},
   "source": [
    "Parameter tuning allows for more optimization within the algorithms performance to answer the question to our POI problem. A few tools were shown for this purpose and I chose to use GridSearchCV. I ran it with specific parameters chosen and used the estimator function as well. This is important to help parse out features that will not provide functionable data to refine our test."
   ]
  },
  {
   "cell_type": "markdown",
   "metadata": {},
   "source": [
    "### At least two appropriate metrics are used to evaluate algorithm performance (e.g. precision and recall), and the student articulates what those metrics measure in context of the project task."
   ]
  },
  {
   "cell_type": "markdown",
   "metadata": {},
   "source": [
    "Accuracy is a measure of the percentage of correctly identified POI/nonPOI's. This is a good metric for confidence but the classifier should not be judged on this alone as Accuracy does not tell the whole story and is a very general way of looking at classifier judgement.\n",
    "\n",
    "Precision is a measure of the percentage of predicted POI's. This should create a high precision and low false positive rate. Precision creates confidence in the POI's that are marked as true positives.\n",
    "\n",
    "Recall is a measure of the percentage of real POI's. This should create a high recall and low false negative rate. This metric shows confidence in recovering more POI's from nonPOI's.\n",
    "\n",
    "F1 score gives a balanced mean of precision and recall."
   ]
  },
  {
   "cell_type": "markdown",
   "metadata": {},
   "source": [
    "### Discuss validation and its importance. Response addresses what validation is and why it is important."
   ]
  },
  {
   "cell_type": "markdown",
   "metadata": {},
   "source": [
    "With validation we test our model indpendent of the training data to estimate the overall performance of our model. Validation is a required step to give confidence to our model and the outcomes. Overfitting is an example of a problem that can be found with proper validation."
   ]
  },
  {
   "cell_type": "markdown",
   "metadata": {},
   "source": [
    "# Conclusion / What I've learned."
   ]
  },
  {
   "cell_type": "markdown",
   "metadata": {},
   "source": [
    "I do not believe I can articulate how much I've learned in this course. I feel fortunate that my education is currently my full-time job. Taking this course in sporadic stints while working may have been very challenging for me. With that said, I acutally think I could employ this in a working enviornment! The scikit-learn site really lays this info out well and many videos on youtube will walk one through many applications of machine learning. \n",
    "\n",
    "As well, I feel like there is a better solution than DecisionTreeClassifier to root our fraud here. I tried the others listed and ran into several problems, especially with python 2.7. I say this becuase for all of my tweaking, I feel like my metrics just weren't getting as high as I think they should be. At least, not as high as I would want to see them if someone were actually being investigated by this research."
   ]
  }
 ],
 "metadata": {
  "kernelspec": {
   "display_name": "Python 3",
   "language": "python",
   "name": "python3"
  },
  "language_info": {
   "codemirror_mode": {
    "name": "ipython",
    "version": 3
   },
   "file_extension": ".py",
   "mimetype": "text/x-python",
   "name": "python",
   "nbconvert_exporter": "python",
   "pygments_lexer": "ipython3",
   "version": "3.8.5"
  }
 },
 "nbformat": 4,
 "nbformat_minor": 2
}
